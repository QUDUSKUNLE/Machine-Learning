{
  "nbformat": 4,
  "nbformat_minor": 0,
  "metadata": {
    "colab": {
      "name": "Celsius_to_Fahrenheit.ipynb",
      "provenance": [],
      "include_colab_link": true
    },
    "kernelspec": {
      "name": "python3",
      "display_name": "Python 3"
    }
  },
  "cells": [
    {
      "cell_type": "markdown",
      "metadata": {
        "id": "view-in-github",
        "colab_type": "text"
      },
      "source": [
        "<a href=\"https://colab.research.google.com/github/QUDUSKUNLE/Machine-Learning/blob/master/Celsius_to_Fahrenheit.ipynb\" target=\"_parent\"><img src=\"https://colab.research.google.com/assets/colab-badge.svg\" alt=\"Open In Colab\"/></a>"
      ]
    },
    {
      "cell_type": "code",
      "metadata": {
        "id": "GOCoKgYvEdcB",
        "colab_type": "code",
        "colab": {
          "base_uri": "https://localhost:8080/",
          "height": 34
        },
        "outputId": "df4ebac7-c6c2-4a0d-e8c6-8d57057713d4"
      },
      "source": [
        "!pip install numpy"
      ],
      "execution_count": 1,
      "outputs": [
        {
          "output_type": "stream",
          "text": [
            "Requirement already satisfied: numpy in /usr/local/lib/python3.6/dist-packages (1.16.5)\n"
          ],
          "name": "stdout"
        }
      ]
    },
    {
      "cell_type": "code",
      "metadata": {
        "id": "MpTfG-2vEn1u",
        "colab_type": "code",
        "colab": {}
      },
      "source": [
        "import numpy as np\n",
        "import pandas as pd"
      ],
      "execution_count": 0,
      "outputs": []
    },
    {
      "cell_type": "code",
      "metadata": {
        "id": "ihQs2dEWE7nn",
        "colab_type": "code",
        "colab": {
          "base_uri": "https://localhost:8080/",
          "height": 85
        },
        "outputId": "8d74b985-a133-4ba9-b895-c4ab79a4ff0a"
      },
      "source": [
        "!pwd\n",
        "!cd /\n",
        "!ls -l\n",
        "print('Hello')"
      ],
      "execution_count": 9,
      "outputs": [
        {
          "output_type": "stream",
          "text": [
            "/content\n",
            "total 4\n",
            "drwxr-xr-x 1 root root 4096 Aug 27 16:17 sample_data\n",
            "Hello\n"
          ],
          "name": "stdout"
        }
      ]
    },
    {
      "cell_type": "markdown",
      "metadata": {
        "id": "n-AteRNVqAcO",
        "colab_type": "text"
      },
      "source": [
        "You just trained your first machine learning model. We saw that by training the model with input data and the corresponding output, the model learned to multiply the input by 1.8 and then add 32 to get the correct result."
      ]
    },
    {
      "cell_type": "code",
      "metadata": {
        "id": "iNmop5Z0qFpq",
        "colab_type": "code",
        "colab": {
          "base_uri": "https://localhost:8080/",
          "height": 51
        },
        "outputId": "de8eb7cd-0f8e-47cd-c7cb-dc06e3680458"
      },
      "source": [
        "import tensorflow as tf\n",
        "import numpy as np\n",
        "\n",
        "celsius_q = np.array([-40, -10, 0, 8, 15, 22, 38], dtype=float)\n",
        "fahrenheit_a = np.array([-40, 14, 322, 46, 59, 72, 100], dtype=float)\n",
        "\n",
        "# Actual model\n",
        "l_1 = tf.keras.layers.Dense(units=1, input_shape=[1])\n",
        "#l_2 = tf.keras.layers.Dense(units=4)\n",
        "# l_3 = tf.keras.layers.Dense(units=1)\n",
        "model = tf.keras.Sequential([l_1])\n",
        "model.compile(loss='mean_squared_error', optimizer=tf.keras.optimizers.Adam(0.1))\n",
        "\n",
        "history = model.fit(celsius_q, fahrenheit_a, epochs=500, verbose=False) # Actual Training process\n",
        "\n",
        "# Predict the approximate value\n",
        "print(model.predict([100.0]))\n",
        "print('l_1:{0}'.format(l_1.get_weights()))"
      ],
      "execution_count": 34,
      "outputs": [
        {
          "output_type": "stream",
          "text": [
            "[[213.3706]]\n",
            "l_1:[array([[1.7214553]], dtype=float32), array([41.225063], dtype=float32)]\n"
          ],
          "name": "stdout"
        }
      ]
    },
    {
      "cell_type": "markdown",
      "metadata": {
        "id": "2c8SUY8kwCYi",
        "colab_type": "text"
      },
      "source": [
        "#### Short Explanation\n",
        "\n",
        "The actual tarining happens when inpout variables are matched to the best output variables, this is achieved through an optimization process called **Gradient Descent**.\n",
        "\n",
        "The best values means nudging them more would make the model perform worse. The function measures how good or bad the model is during interation is called **loss function**.\n",
        "\n",
        "The following terms are important:\n",
        "\n",
        "    1. Feature: The imput(s) to our model\n",
        "    2. Example: input/ouput to train our model\n",
        "    3. Label: The output(s) to our model\n",
        "    4. Layer: A collection of nodes connect together within the neural network\n",
        "    5. Model: The representation of your neural network\n",
        "    6. Dense and Fully Connected(FC): Each node in one layer is connected to each node in the previous layer.\n",
        "    7. Weight and biases: The internal variables of model\n",
        "    8. Loss: The discrepancy between the desired output and the actual output\n",
        "    9. MSE: Mean Squared Error, a type of loss function that counts a samll number of large discrepancies as worse than a large number of small ones.\n",
        "    10. Gradient Descent\n",
        "    11. Optimizer\n",
        "    12. Learning Rate\n",
        "    13. Batch\n",
        "    14. Epoch: A full pass over the entire training dataset.\n",
        "    15. Forward pass\n",
        "    16. Backward pass"
      ]
    },
    {
      "cell_type": "markdown",
      "metadata": {
        "id": "2q6KJaiN1ERy",
        "colab_type": "text"
      },
      "source": [
        "Hidden Layer or neural.\n",
        "\n",
        "Dense Layer is a collection neurons"
      ]
    },
    {
      "cell_type": "code",
      "metadata": {
        "id": "IuoS3pMJ3DhI",
        "colab_type": "code",
        "colab": {}
      },
      "source": [
        "hidden = tf.keras.layers.Dense(units=2, input_shape=[3])\n",
        "output = tf.keras.layers.Dense(units=1)\n",
        "model = tf.keras.Sequential([hidden, output])\n"
      ],
      "execution_count": 0,
      "outputs": []
    },
    {
      "cell_type": "code",
      "metadata": {
        "id": "9ffPWfYlBz5a",
        "colab_type": "code",
        "colab": {}
      },
      "source": [
        ""
      ],
      "execution_count": 0,
      "outputs": []
    }
  ]
}